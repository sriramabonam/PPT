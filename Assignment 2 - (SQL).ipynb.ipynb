{
  "nbformat": 4,
  "nbformat_minor": 0,
  "metadata": {
    "colab": {
      "provenance": []
    },
    "kernelspec": {
      "name": "python3",
      "display_name": "Python 3"
    },
    "language_info": {
      "name": "python"
    }
  },
  "cells": [
    {
      "cell_type": "code",
      "source": [
        "SELECT name, email_address\n",
        "FROM Employees;"
      ],
      "metadata": {
        "id": "GcZ_XwlBjaNj"
      },
      "execution_count": null,
      "outputs": []
    },
    {
      "cell_type": "code",
      "source": [
        "SELECT *FROM Customers\n",
        "WHERE City = 'New York';"
      ],
      "metadata": {
        "id": "prMXNIKFjb90"
      },
      "execution_count": null,
      "outputs": []
    },
    {
      "cell_type": "code",
      "source": [
        "SELECT * FROM Users\n",
        "ORDER BY DateOfBirth DESC;\n"
      ],
      "metadata": {
        "id": "77RhRgp1joCO"
      },
      "execution_count": null,
      "outputs": []
    },
    {
      "cell_type": "code",
      "source": [
        "SELECT * FROM Users\n",
        "ORDER BY RegistrationDate ASC;\n"
      ],
      "metadata": {
        "id": "4GOrXnsLjwiW"
      },
      "execution_count": null,
      "outputs": []
    },
    {
      "cell_type": "code",
      "source": [
        "SELECT name, position, salary\n",
        "FROM Employees\n",
        "WHERE salary = (SELECT MAX(salary) FROM Employees);\n"
      ],
      "metadata": {
        "id": "zSjfUSXVj3-Q"
      },
      "execution_count": null,
      "outputs": []
    },
    {
      "cell_type": "code",
      "source": [
        "SELECT *\n",
        "FROM Customers\n",
        "WHERE Phone LIKE '+1-___-___-____';\n"
      ],
      "metadata": {
        "id": "l2VtpONXj9-f"
      },
      "execution_count": null,
      "outputs": []
    },
    {
      "cell_type": "code",
      "source": [
        "SELECT customer_name, SUM(order_amount) AS total_purchase_amount\n",
        "FROM Orders\n",
        "GROUP BY customer_name\n",
        "ORDER BY total_purchase_amount DESC\n",
        "LIMIT 5;\n"
      ],
      "metadata": {
        "id": "5X5JtWrykDao"
      },
      "execution_count": null,
      "outputs": []
    },
    {
      "cell_type": "code",
      "source": [
        "SELECT category_name, SUM(sales_amount) AS total_sales_amount,\n",
        "       (SUM(sales_amount) / (SELECT SUM(sales_amount) FROM Sales)) * 100 AS sales_percentage\n",
        "FROM Sales\n",
        "GROUP BY category_name;"
      ],
      "metadata": {
        "id": "IKI0UlAhkIhL"
      },
      "execution_count": null,
      "outputs": []
    },
    {
      "cell_type": "code",
      "source": [
        "SELECT customer_name, email_address, SUM(order_amount) AS total_purchase_amount\n",
        "FROM Orders\n",
        "GROUP BY customer_name, email_address\n",
        "HAVING SUM(order_amount) = (\n",
        "    SELECT MAX(total_purchase_amount)\n",
        "    FROM (\n",
        "        SELECT customer_name, SUM(order_amount) AS total_purchase_amount\n",
        "        FROM Orders\n",
        "        GROUP BY customer_name\n",
        "    ) AS subquery\n",
        ");\n"
      ],
      "metadata": {
        "id": "WrIF5XwIkPp9"
      },
      "execution_count": null,
      "outputs": []
    }
  ]
}