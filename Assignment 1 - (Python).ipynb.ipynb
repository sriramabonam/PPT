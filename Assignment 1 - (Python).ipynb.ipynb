{
 "cells": [
  {
   "cell_type": "code",
   "execution_count": 1,
   "metadata": {
    "colab": {
     "base_uri": "https://localhost:8080/"
    },
    "id": "51Z1e-mtnCcS",
    "outputId": "526f62c3-9dc4-4689-8f7a-b05f30a60f42"
   },
   "outputs": [
    {
     "name": "stdout",
     "output_type": "stream",
     "text": [
      "Enter the first string: sdsdf\n",
      "Enter the second string: sadfasdg\n",
      "The strings are not anagrams.\n"
     ]
    }
   ],
   "source": [
    "#1.Write a Python program to check if a given string is an anagram.\n",
    "def is_anagram(str1, str2):\n",
    "    # Convert strings to lowercase and remove whitespace\n",
    "    str1 = str1.lower().replace(\" \", \"\")\n",
    "    str2 = str2.lower().replace(\" \", \"\")\n",
    "\n",
    "    # Check if the sorted versions are equal\n",
    "    return sorted(str1) == sorted(str2)\n",
    "\n",
    "# Example usage\n",
    "string1 = input(\"Enter the first string: \")\n",
    "string2 = input(\"Enter the second string: \")\n",
    "\n",
    "if is_anagram(string1, string2):\n",
    "    print(\"The strings are anagrams.\")\n",
    "else:\n",
    "    print(\"The strings are not anagrams.\")\n"
   ]
  },
  {
   "cell_type": "code",
   "execution_count": 3,
   "metadata": {
    "colab": {
     "base_uri": "https://localhost:8080/"
    },
    "id": "gFSOocc0oqFq",
    "outputId": "5e976f91-580d-469c-c3b0-d13eb8fbaa51"
   },
   "outputs": [
    {
     "name": "stdout",
     "output_type": "stream",
     "text": [
      "Maximum value: 20\n",
      "Minimum value: 3\n"
     ]
    }
   ],
   "source": [
    "#2.Write a Python program to find the maximum and minimum values in a dictionary\n",
    "\n",
    "def find_max_min(dictionary):\n",
    "    values = dictionary.values()\n",
    "    max_value = max(values)\n",
    "    min_value = min(values)\n",
    "    return max_value, min_value\n",
    "\n",
    "# Example usage\n",
    "my_dict = {'a': 10, 'b': 5, 'c': 15, 'd': 3, 'e': 20}\n",
    "\n",
    "max_val, min_val = find_max_min(my_dict)\n",
    "\n",
    "print(\"Maximum value:\", max_val)\n",
    "print(\"Minimum value:\", min_val)\n"
   ]
  },
  {
   "cell_type": "code",
   "execution_count": 4,
   "metadata": {
    "colab": {
     "base_uri": "https://localhost:8080/"
    },
    "id": "EuR32GmSo5eF",
    "outputId": "01fcc7c3-d4df-464b-e9e1-785aed85439a"
   },
   "outputs": [
    {
     "name": "stdout",
     "output_type": "stream",
     "text": [
      "Average: 6.0\n"
     ]
    }
   ],
   "source": [
    "#3.Write a Python program to find the average of a list of numbers.\n",
    "\n",
    "def find_average(numbers):\n",
    "    total = sum(numbers)\n",
    "    count = len(numbers)\n",
    "    average = total / count\n",
    "    return average\n",
    "\n",
    "# Example usage\n",
    "number_list = [2, 4, 6, 8, 10]\n",
    "\n",
    "average = find_average(number_list)\n",
    "\n",
    "print(\"Average:\", average)\n"
   ]
  },
  {
   "cell_type": "code",
   "execution_count": 5,
   "metadata": {
    "colab": {
     "base_uri": "https://localhost:8080/"
    },
    "id": "owuFDl3xo-AL",
    "outputId": "21ceb719-722b-4838-e96d-61f949f2e7a6"
   },
   "outputs": [
    {
     "name": "stdout",
     "output_type": "stream",
     "text": [
      "Enter a string: sriram\n",
      "String without vowels: srrm\n"
     ]
    }
   ],
   "source": [
    "#4.Write a Python program to remove all vowels from a string.\n",
    "\n",
    "def remove_vowels(string):\n",
    "    vowels = 'aeiouAEIOU'\n",
    "    new_string = ''\n",
    "    for char in string:\n",
    "        if char not in vowels:\n",
    "            new_string += char\n",
    "    return new_string\n",
    "\n",
    "# Example usage\n",
    "input_string = input(\"Enter a string: \")\n",
    "\n",
    "result = remove_vowels(input_string)\n",
    "\n",
    "print(\"String without vowels:\", result)\n"
   ]
  },
  {
   "cell_type": "code",
   "execution_count": 7,
   "metadata": {
    "colab": {
     "base_uri": "https://localhost:8080/"
    },
    "id": "1QAAAJBYpGHM",
    "outputId": "2424d885-d81c-4455-be28-24eed695350a"
   },
   "outputs": [
    {
     "name": "stdout",
     "output_type": "stream",
     "text": [
      "Enter a number: 4\n",
      "Factorial: 24\n"
     ]
    }
   ],
   "source": [
    "#5.Write a Python function to calculate the factorial of a number using recursion.\n",
    "\n",
    "def factorial(n):\n",
    "    # Base case: factorial of 0 or 1 is 1\n",
    "    if n == 0 or n == 1:\n",
    "        return 1\n",
    "    # Recursive case: factorial of n is n multiplied by factorial of n-1\n",
    "    else:\n",
    "        return n * factorial(n - 1)\n",
    "\n",
    "# Example usage\n",
    "num = int(input(\"Enter a number: \"))\n",
    "\n",
    "result = factorial(num)\n",
    "\n",
    "print(\"Factorial:\", result)\n"
   ]
  },
  {
   "cell_type": "code",
   "execution_count": 8,
   "metadata": {
    "colab": {
     "base_uri": "https://localhost:8080/"
    },
    "id": "2lXylVTupPq1",
    "outputId": "c2785b18-4853-413d-bf2f-0429c8307625"
   },
   "outputs": [
    {
     "name": "stdout",
     "output_type": "stream",
     "text": [
      "Merged and sorted list: [0, 1, 2, 3, 4, 5, 6, 7, 8, 9]\n"
     ]
    }
   ],
   "source": [
    "#6.Write a Python program to merge two unsorted lists into a single sorted list using the merge sort algorithm.\n",
    "\n",
    "def merge_sort_merge(left, right):\n",
    "    merged = []\n",
    "    i = j = 0\n",
    "\n",
    "    # Merge the two lists in sorted order\n",
    "    while i < len(left) and j < len(right):\n",
    "        if left[i] < right[j]:\n",
    "            merged.append(left[i])\n",
    "            i += 1\n",
    "        else:\n",
    "            merged.append(right[j])\n",
    "            j += 1\n",
    "\n",
    "    # Add the remaining elements of the left list\n",
    "    while i < len(left):\n",
    "        merged.append(left[i])\n",
    "        i += 1\n",
    "\n",
    "    # Add the remaining elements of the right list\n",
    "    while j < len(right):\n",
    "        merged.append(right[j])\n",
    "        j += 1\n",
    "\n",
    "    return merged\n",
    "\n",
    "\n",
    "def merge_sort(lst):\n",
    "    # Base case: if the list has 0 or 1 element, it is already sorted\n",
    "    if len(lst) <= 1:\n",
    "        return lst\n",
    "\n",
    "    # Split the list into two halves\n",
    "    mid = len(lst) // 2\n",
    "    left = lst[:mid]\n",
    "    right = lst[mid:]\n",
    "\n",
    "    # Sort each half recursively\n",
    "    left_sorted = merge_sort(left)\n",
    "    right_sorted = merge_sort(right)\n",
    "\n",
    "    # Merge the sorted halves\n",
    "    return merge_sort_merge(left_sorted, right_sorted)\n",
    "\n",
    "\n",
    "# Example usage\n",
    "list1 = [8, 3, 1, 7, 5]\n",
    "list2 = [9, 2, 6, 4, 0]\n",
    "\n",
    "merged_list = merge_sort(list1 + list2)\n",
    "\n",
    "print(\"Merged and sorted list:\", merged_list)\n"
   ]
  },
  {
   "cell_type": "code",
   "execution_count": 9,
   "metadata": {
    "colab": {
     "base_uri": "https://localhost:8080/"
    },
    "id": "f2aY6rwmpYlN",
    "outputId": "967cb850-23de-4280-bded-683f61602d1a"
   },
   "outputs": [
    {
     "name": "stdout",
     "output_type": "stream",
     "text": [
      "Enter the first number: 23\n",
      "Enter the second number: 42\n",
      "GCD: 1\n"
     ]
    }
   ],
   "source": [
    "#7.Write a Python program to find the GCD (Greatest Common Divisor) of two numbers.\n",
    "\n",
    "def gcd(a, b):\n",
    "    while b != 0:\n",
    "        a, b = b, a % b\n",
    "    return a\n",
    "\n",
    "# Example usage\n",
    "num1 = int(input(\"Enter the first number: \"))\n",
    "num2 = int(input(\"Enter the second number: \"))\n",
    "\n",
    "result = gcd(num1, num2)\n",
    "\n",
    "print(\"GCD:\", result)\n"
   ]
  },
  {
   "cell_type": "code",
   "execution_count": 10,
   "metadata": {
    "colab": {
     "base_uri": "https://localhost:8080/"
    },
    "id": "88OfYaVApgnm",
    "outputId": "b24e17ed-ea9e-4efc-949c-e4abe523dcd8"
   },
   "outputs": [
    {
     "name": "stdout",
     "output_type": "stream",
     "text": [
      "Second-largest element: 10\n"
     ]
    }
   ],
   "source": [
    "#8.Write a Python program to find the second-largest element in a list.\n",
    "\n",
    "def find_second_largest(lst):\n",
    "    sorted_list = sorted(lst, reverse=True)\n",
    "    second_largest = sorted_list[1]\n",
    "    return second_largest\n",
    "\n",
    "# Example usage\n",
    "my_list = [10, 5, 8, 12, 3]\n",
    "\n",
    "second_largest_element = find_second_largest(my_list)\n",
    "\n",
    "print(\"Second-largest element:\", second_largest_element)\n"
   ]
  },
  {
   "cell_type": "code",
   "execution_count": 11,
   "metadata": {
    "colab": {
     "base_uri": "https://localhost:8080/"
    },
    "id": "eCrlAJBCpoCw",
    "outputId": "40dfa4f6-0c54-414b-99da-334bdda39903"
   },
   "outputs": [
    {
     "name": "stdout",
     "output_type": "stream",
     "text": [
      "Enter the first string: 12\n",
      "Enter the second string: 32\n",
      "Longest common subsequence: 2\n"
     ]
    }
   ],
   "source": [
    "#9.Write a Python program to find the longest common subsequence between two strings using dynamic programming.\n",
    "\n",
    "def find_lcs(str1, str2):\n",
    "    m = len(str1)\n",
    "    n = len(str2)\n",
    "\n",
    "    # Create a table to store the lengths of LCS for different prefix substrings\n",
    "    table = [[0] * (n + 1) for _ in range(m + 1)]\n",
    "\n",
    "    # Fill the table using dynamic programming\n",
    "    for i in range(1, m + 1):\n",
    "        for j in range(1, n + 1):\n",
    "            if str1[i - 1] == str2[j - 1]:\n",
    "                table[i][j] = table[i - 1][j - 1] + 1\n",
    "            else:\n",
    "                table[i][j] = max(table[i - 1][j], table[i][j - 1])\n",
    "\n",
    "    # Retrieve the LCS by backtracking through the table\n",
    "    lcs = ''\n",
    "    i = m\n",
    "    j = n\n",
    "    while i > 0 and j > 0:\n",
    "        if str1[i - 1] == str2[j - 1]:\n",
    "            lcs = str1[i - 1] + lcs\n",
    "            i -= 1\n",
    "            j -= 1\n",
    "        elif table[i - 1][j] > table[i][j - 1]:\n",
    "            i -= 1\n",
    "        else:\n",
    "            j -= 1\n",
    "\n",
    "    return lcs\n",
    "\n",
    "# Example usage\n",
    "string1 = input(\"Enter the first string: \")\n",
    "string2 = input(\"Enter the second string: \")\n",
    "\n",
    "result = find_lcs(string1, string2)\n",
    "\n",
    "print(\"Longest common subsequence:\", result)\n"
   ]
  }
 ],
 "metadata": {
  "colab": {
   "provenance": []
  },
  "kernelspec": {
   "display_name": "Python 3 (ipykernel)",
   "language": "python",
   "name": "python3"
  },
  "language_info": {
   "codemirror_mode": {
    "name": "ipython",
    "version": 3
   },
   "file_extension": ".py",
   "mimetype": "text/x-python",
   "name": "python",
   "nbconvert_exporter": "python",
   "pygments_lexer": "ipython3",
   "version": "3.9.12"
  }
 },
 "nbformat": 4,
 "nbformat_minor": 1
}
